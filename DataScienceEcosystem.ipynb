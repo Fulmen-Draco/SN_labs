{
 "cells": [
  {
   "cell_type": "markdown",
   "id": "74a619d5",
   "metadata": {},
   "source": [
    "# Data Science Tools and ecosystem"
   ]
  },
  {
   "cell_type": "markdown",
   "id": "44282f87",
   "metadata": {},
   "source": [
    "In this Notebook , Data science Tools and Eco system is summarised"
   ]
  },
  {
   "cell_type": "markdown",
   "id": "98b43bb2",
   "metadata": {},
   "source": [
    "**Objectives** :\n",
    "- Popular languages in Data Science.\n",
    "- Commonly used libraries.\n",
    "- Data Science Tools.\n",
    "- Examples of Arithmetic Expression."
   ]
  },
  {
   "cell_type": "markdown",
   "id": "aae0d740",
   "metadata": {},
   "source": [
    "Some of the popular languages that Data Scientists use are:\n",
    "1. Python\n",
    "2. Scala\n",
    "3. R\n",
    "4. Julia"
   ]
  },
  {
   "cell_type": "markdown",
   "id": "9fb03021",
   "metadata": {},
   "source": [
    "Some of the commonly used libraries ude by dta Scientists include:\n",
    "1. Numpy\n",
    "2. Pandas\n",
    "3. Scilab"
   ]
  },
  {
   "cell_type": "markdown",
   "id": "a1829f68",
   "metadata": {},
   "source": [
    "| Data Science Tools |\n",
    "| -------------- |\n",
    "| Jupyter notebook |\n",
    "| Rstudio |\n",
    "| Apache spark |\n",
    "\n"
   ]
  },
  {
   "cell_type": "markdown",
   "id": "b0618e64",
   "metadata": {},
   "source": [
    "Below are few examples of evaluating arithmetic expressions"
   ]
  },
  {
   "cell_type": "code",
   "execution_count": 1,
   "id": "a7c84102",
   "metadata": {},
   "outputs": [
    {
     "data": {
      "text/plain": [
       "17"
      ]
     },
     "execution_count": 1,
     "metadata": {},
     "output_type": "execute_result"
    }
   ],
   "source": [
    "(3*4)+5"
   ]
  },
  {
   "cell_type": "code",
   "execution_count": 3,
   "id": "b7005c8c",
   "metadata": {},
   "outputs": [
    {
     "name": "stdout",
     "output_type": "stream",
     "text": [
      "3 hours 20 minutes\n"
     ]
    }
   ],
   "source": [
    "#this will conver 200 minutes into hours\n",
    "x = 200 // 60\n",
    "y = 200 % 60\n",
    "print(f\"{x} hours {y} minutes\")"
   ]
  },
  {
   "cell_type": "markdown",
   "id": "6d71c71c",
   "metadata": {},
   "source": [
    "## Author\n",
    "Aditya Sinha"
   ]
  }
 ],
 "metadata": {
  "kernelspec": {
   "display_name": "Python 3 (ipykernel)",
   "language": "python",
   "name": "python3"
  },
  "language_info": {
   "codemirror_mode": {
    "name": "ipython",
    "version": 3
   },
   "file_extension": ".py",
   "mimetype": "text/x-python",
   "name": "python",
   "nbconvert_exporter": "python",
   "pygments_lexer": "ipython3",
   "version": "3.9.13"
  }
 },
 "nbformat": 4,
 "nbformat_minor": 5
}
